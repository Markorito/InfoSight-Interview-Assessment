{
 "cells": [
  {
   "cell_type": "code",
   "execution_count": 21,
   "id": "b32821e4",
   "metadata": {},
   "outputs": [],
   "source": [
    "from flask import Flask\n",
    "from flask_restful import reqparse, abort, Api, Resource\n",
    "import numpy as np\n",
    "import tensorflow as tf\n",
    "import json\n",
    "import cv2"
   ]
  },
  {
   "cell_type": "code",
   "execution_count": 13,
   "id": "471e00ff",
   "metadata": {},
   "outputs": [],
   "source": [
    "app = Flask(__name__)\n",
    "api = Api(app)"
   ]
  },
  {
   "cell_type": "code",
   "execution_count": 17,
   "id": "c75de0f4",
   "metadata": {},
   "outputs": [],
   "source": [
    "img_size = 255\n",
    "model = tf.keras.models.load_model('id passport classifier')"
   ]
  },
  {
   "cell_type": "code",
   "execution_count": 15,
   "id": "33c43e49",
   "metadata": {},
   "outputs": [
    {
     "data": {
      "text/plain": [
       "<flask_restful.reqparse.RequestParser at 0x28ba0aa8df0>"
      ]
     },
     "execution_count": 15,
     "metadata": {},
     "output_type": "execute_result"
    }
   ],
   "source": [
    "# argument parsing\n",
    "parser = reqparse.RequestParser()\n",
    "parser.add_argument('query')"
   ]
  },
  {
   "cell_type": "code",
   "execution_count": 18,
   "id": "9e862b91",
   "metadata": {},
   "outputs": [],
   "source": [
    "#Creating the Resource Class Object\n",
    "class PredictImage(Resource):\n",
    "    def get(self):\n",
    "        # use parser and find the user's query\n",
    "        args = parser.parse_args()\n",
    "        user_query = args['query']        # vectorize the user's query and make a prediction\n",
    "        uq_resized = cv2.resize(user_query, (img_size, img_size)) # Resizing it to make it possible to feed into the model\n",
    "        uq = np.array(uq_resized) / 255 #Normalizing the image\n",
    "        prediction = model.predict(uq)\n",
    "        if prediction == 0:\n",
    "            pred_text = 'Negative'\n",
    "        else:\n",
    "            pred_text = 'Positive'\n",
    "            \n",
    "        # round the predict proba value and set to new variable\n",
    "        output = {'prediction': prediction}\n",
    "        \n",
    "        return output"
   ]
  },
  {
   "cell_type": "code",
   "execution_count": 19,
   "id": "37b1152c",
   "metadata": {},
   "outputs": [],
   "source": [
    "#Adding our class as an endpoint\n",
    "api.add_resource(PredictImage, '/')"
   ]
  },
  {
   "cell_type": "code",
   "execution_count": 20,
   "id": "daab2e68",
   "metadata": {},
   "outputs": [
    {
     "name": "stdout",
     "output_type": "stream",
     "text": [
      " * Serving Flask app '__main__' (lazy loading)\n",
      " * Environment: production\n",
      "   WARNING: This is a development server. Do not use it in a production deployment.\n",
      "   Use a production WSGI server instead.\n",
      " * Debug mode: on\n"
     ]
    },
    {
     "name": "stderr",
     "output_type": "stream",
     "text": [
      " * Restarting with watchdog (windowsapi)\n"
     ]
    },
    {
     "ename": "SystemExit",
     "evalue": "1",
     "output_type": "error",
     "traceback": [
      "An exception has occurred, use %tb to see the full traceback.\n",
      "\u001b[1;31mSystemExit\u001b[0m\u001b[1;31m:\u001b[0m 1\n"
     ]
    },
    {
     "name": "stderr",
     "output_type": "stream",
     "text": [
      "c:\\users\\user\\appdata\\local\\programs\\python\\python38\\lib\\site-packages\\IPython\\core\\interactiveshell.py:3449: UserWarning: To exit: use 'exit', 'quit', or Ctrl-D.\n",
      "  warn(\"To exit: use 'exit', 'quit', or Ctrl-D.\", stacklevel=1)\n"
     ]
    }
   ],
   "source": [
    "if __name__ == '__main__':\n",
    "    app.run(debug=True)"
   ]
  },
  {
   "cell_type": "code",
   "execution_count": null,
   "id": "497dd978",
   "metadata": {},
   "outputs": [],
   "source": []
  }
 ],
 "metadata": {
  "kernelspec": {
   "display_name": "Python 3 (ipykernel)",
   "language": "python",
   "name": "python3"
  },
  "language_info": {
   "codemirror_mode": {
    "name": "ipython",
    "version": 3
   },
   "file_extension": ".py",
   "mimetype": "text/x-python",
   "name": "python",
   "nbconvert_exporter": "python",
   "pygments_lexer": "ipython3",
   "version": "3.8.5"
  }
 },
 "nbformat": 4,
 "nbformat_minor": 5
}
